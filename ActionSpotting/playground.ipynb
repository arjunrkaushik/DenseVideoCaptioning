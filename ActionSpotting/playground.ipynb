{
 "cells": [
  {
   "cell_type": "code",
   "execution_count": 9,
   "metadata": {},
   "outputs": [],
   "source": [
    "import os\n",
    "import numpy as np"
   ]
  },
  {
   "cell_type": "code",
   "execution_count": 6,
   "metadata": {},
   "outputs": [],
   "source": [
    "actionSpotting_v2_path = '/data/kaushik3/SoccerData/ActionSpotting/ActionSpotting_v2'\n",
    "resnet_features_path = '/data/kaushik3/SoccerData/ResNET_features'\n",
    "baidu_features_path = '/data/kaushik3/SoccerData/Baidu_Features'"
   ]
  },
  {
   "cell_type": "code",
   "execution_count": 7,
   "metadata": {},
   "outputs": [],
   "source": [
    "exists = 0\n",
    "missing = 0\n",
    "total = 0\n",
    "for league in os.listdir(os.path.join(actionSpotting_v2_path, 'train')):\n",
    "    for season in os.listdir(os.path.join(actionSpotting_v2_path, 'train', league)):\n",
    "        for game in os.listdir(os.path.join(actionSpotting_v2_path, 'train', league, season)):\n",
    "            feature_path = os.path.join(baidu_features_path, league, season, game)\n",
    "            if not os.path.exists(feature_path):\n",
    "                missing += 1\n",
    "            else:\n",
    "                exists += 1\n",
    "            total += 1"
   ]
  },
  {
   "cell_type": "code",
   "execution_count": 8,
   "metadata": {},
   "outputs": [
    {
     "name": "stdout",
     "output_type": "stream",
     "text": [
      "Total: 300\n",
      "Exists: 300\n",
      "Missing: 0\n"
     ]
    }
   ],
   "source": [
    "print('Total:', total)\n",
    "print('Exists:', exists)\n",
    "print('Missing:', missing)"
   ]
  },
  {
   "cell_type": "code",
   "execution_count": 14,
   "metadata": {},
   "outputs": [],
   "source": [
    "r1 = np.load('/data/kaushik3/SoccerData/ResNET_features/england_epl/2014-2015/2015-02-21 - 18-00 Crystal Palace 1 - 2 Arsenal/1_ResNET_TF2.npy')"
   ]
  },
  {
   "cell_type": "code",
   "execution_count": 24,
   "metadata": {},
   "outputs": [
    {
     "name": "stdout",
     "output_type": "stream",
     "text": [
      "(5534, 2048)\n"
     ]
    }
   ],
   "source": [
    "print(r1.shape)"
   ]
  },
  {
   "cell_type": "code",
   "execution_count": 16,
   "metadata": {},
   "outputs": [],
   "source": [
    "from utils.helpers import load_json\n",
    "\n",
    "all_labels = {}\n",
    "for league in os.listdir(os.path.join(actionSpotting_v2_path, 'train')):\n",
    "    for season in os.listdir(os.path.join(actionSpotting_v2_path, 'train', league)):\n",
    "        for game in os.listdir(os.path.join(actionSpotting_v2_path, 'train', league, season)):\n",
    "            label_path = os.path.join(actionSpotting_v2_path, 'train', league, season, game, 'Labels-v2.json')\n",
    "            labels = load_json(label_path)\n",
    "            for label in labels['annotations']:\n",
    "                if label['label'] not in all_labels:\n",
    "                    all_labels[label['label']] = 0\n",
    "                all_labels[label['label']] += 1\n",
    "\n"
   ]
  },
  {
   "cell_type": "code",
   "execution_count": 17,
   "metadata": {},
   "outputs": [],
   "source": [
    "all_labels_val = {}\n",
    "for league in os.listdir(os.path.join(actionSpotting_v2_path, 'val')):\n",
    "    for season in os.listdir(os.path.join(actionSpotting_v2_path, 'val', league)):\n",
    "        for game in os.listdir(os.path.join(actionSpotting_v2_path, 'val', league, season)):\n",
    "            label_path = os.path.join(actionSpotting_v2_path, 'val', league, season, game, 'Labels-v2.json')\n",
    "            labels = load_json(label_path)\n",
    "            for label in labels['annotations']:\n",
    "                if label['label'] not in all_labels_val:\n",
    "                    all_labels_val[label['label']] = 0\n",
    "                all_labels_val[label['label']] += 1"
   ]
  },
  {
   "cell_type": "code",
   "execution_count": 21,
   "metadata": {},
   "outputs": [
    {
     "name": "stdout",
     "output_type": "stream",
     "text": [
      "Ball out of play 19097\n",
      "Clearance 4749\n",
      "Corner 2884\n",
      "Direct free-kick 1379\n",
      "Foul 7084\n",
      "Goal 995\n",
      "Indirect free-kick 6331\n",
      "Kick-off 1516\n",
      "Offside 1265\n",
      "Penalty 96\n",
      "Red card 34\n",
      "Shots off target 3214\n",
      "Shots on target 3463\n",
      "Substitution 1700\n",
      "Throw-in 11391\n",
      "Yellow card 1238\n",
      "Yellow->red card 24\n"
     ]
    }
   ],
   "source": [
    "for key in sorted(all_labels.keys()):\n",
    "    print(key, all_labels[key])"
   ]
  },
  {
   "cell_type": "code",
   "execution_count": 22,
   "metadata": {},
   "outputs": [
    {
     "name": "stdout",
     "output_type": "stream",
     "text": [
      "Ball out of play 6253\n",
      "Clearance 1516\n",
      "Corner 953\n",
      "Direct free-kick 439\n",
      "Foul 2176\n",
      "Goal 371\n",
      "Indirect free-kick 1907\n",
      "Kick-off 536\n",
      "Offside 417\n",
      "Penalty 36\n",
      "Red card 13\n",
      "Shots off target 984\n",
      "Shots on target 1182\n",
      "Substitution 560\n",
      "Throw-in 3718\n",
      "Yellow card 378\n",
      "Yellow->red card 8\n"
     ]
    }
   ],
   "source": [
    "for key in sorted(all_labels_val.keys()):\n",
    "    print(key, all_labels_val[key])"
   ]
  },
  {
   "cell_type": "code",
   "execution_count": 3,
   "metadata": {},
   "outputs": [
    {
     "name": "stderr",
     "output_type": "stream",
     "text": [
      "Processing Leagues:   0%|          | 0/6 [00:00<?, ?it/s]\n",
      "\u001b[A\n",
      "\u001b[A\n",
      "Processing germany_bundesliga/2016-2017: 100%|██████████| 2/2 [00:01<00:00,  1.31it/s]\n",
      "\n",
      "\u001b[A\n",
      "\u001b[A\n",
      "\u001b[A\n",
      "\u001b[A\n",
      "Processing germany_bundesliga/2015-2016: 100%|██████████| 4/4 [00:03<00:00,  1.31it/s]\n",
      "\n",
      "\u001b[A\n",
      "\u001b[A\n",
      "Processing germany_bundesliga/2014-2015: 100%|██████████| 2/2 [00:01<00:00,  1.30it/s]\n",
      "Processing germany_bundesliga: 100%|██████████| 3/3 [00:06<00:00,  2.04s/it]\n",
      "Processing Leagues:  17%|█▋        | 1/6 [00:06<00:30,  6.12s/it]\n",
      "\u001b[A\n",
      "Processing italy_serie-a/2015-2016: 100%|██████████| 1/1 [00:00<00:00,  1.26it/s]\n",
      "\n",
      "\u001b[A\n",
      "\u001b[A\n",
      "\u001b[A\n",
      "\u001b[A\n",
      "\u001b[A\n",
      "\u001b[A\n",
      "\u001b[A\n",
      "\u001b[A\n",
      "\u001b[A\n",
      "\u001b[A\n",
      "\u001b[A\n",
      "\u001b[A\n",
      "\u001b[A\n",
      "\u001b[A\n",
      "Processing italy_serie-a/2016-2017: 100%|██████████| 14/14 [00:10<00:00,  1.30it/s]\n",
      "\n",
      "\u001b[A\n",
      "\u001b[A\n",
      "\u001b[A\n",
      "Processing italy_serie-a/2014-2015: 100%|██████████| 3/3 [00:02<00:00,  1.27it/s]\n",
      "Processing italy_serie-a: 100%|██████████| 3/3 [00:13<00:00,  4.66s/it]\n",
      "Processing Leagues:  33%|███▎      | 2/6 [00:20<00:42, 10.74s/it]\n",
      "\u001b[A\n",
      "\u001b[A\n",
      "\u001b[A\n",
      "\u001b[A\n",
      "\u001b[A\n",
      "\u001b[A\n",
      "\u001b[A\n",
      "\u001b[A\n",
      "\u001b[A\n",
      "\u001b[A\n",
      "\u001b[A\n",
      "Processing spain_laliga/2016-2017: 100%|██████████| 11/11 [00:08<00:00,  1.29it/s]\n",
      "\n",
      "\u001b[A\n",
      "\u001b[A\n",
      "\u001b[A\n",
      "\u001b[A\n",
      "\u001b[A\n",
      "\u001b[A\n",
      "\u001b[A\n",
      "\u001b[A\n",
      "\u001b[A\n",
      "Processing spain_laliga/2015-2016: 100%|██████████| 9/9 [00:06<00:00,  1.29it/s]\n",
      "\n",
      "\u001b[A\n",
      "\u001b[A\n",
      "\u001b[A\n",
      "\u001b[A\n",
      "\u001b[A\n",
      "\u001b[A\n",
      "Processing spain_laliga/2014-2015: 100%|██████████| 6/6 [00:04<00:00,  1.29it/s]\n",
      "Processing spain_laliga: 100%|██████████| 3/3 [00:20<00:00,  6.72s/it]\n",
      "Processing Leagues:  50%|█████     | 3/6 [00:40<00:45, 15.04s/it]\n",
      "\u001b[A\n",
      "Processing england_epl/2014-2015: 100%|██████████| 1/1 [00:00<00:00,  1.26it/s]\n",
      "\n",
      "\u001b[A\n",
      "\u001b[A\n",
      "\u001b[A\n",
      "\u001b[A\n",
      "\u001b[A\n",
      "\u001b[A\n",
      "\u001b[A\n",
      "\u001b[A\n",
      "\u001b[A\n",
      "\u001b[A\n",
      "\u001b[A\n",
      "\u001b[A\n",
      "Processing england_epl/2015-2016: 100%|██████████| 12/12 [00:09<00:00,  1.22it/s]\n",
      "\n",
      "\u001b[A"
     ]
    },
    {
     "name": "stdout",
     "output_type": "stream",
     "text": [
      "Position 2700 is greater than the length of the half 2700. Defaulting to last time spot.\n"
     ]
    },
    {
     "name": "stderr",
     "output_type": "stream",
     "text": [
      "\n",
      "\u001b[A"
     ]
    },
    {
     "name": "stdout",
     "output_type": "stream",
     "text": [
      "Position 2855 is greater than the length of the half 2855. Defaulting to last time spot.\n",
      "Position 2700 is greater than the length of the half 2700. Defaulting to last time spot.\n"
     ]
    },
    {
     "name": "stderr",
     "output_type": "stream",
     "text": [
      "\n",
      "\u001b[A\n",
      "\u001b[A\n",
      "\u001b[A"
     ]
    },
    {
     "name": "stdout",
     "output_type": "stream",
     "text": [
      "Position 2886 is greater than the length of the half 2886. Defaulting to last time spot.\n",
      "Position 2700 is greater than the length of the half 2700. Defaulting to last time spot.\n"
     ]
    },
    {
     "name": "stderr",
     "output_type": "stream",
     "text": [
      "\n",
      "\u001b[A"
     ]
    },
    {
     "name": "stdout",
     "output_type": "stream",
     "text": [
      "Position 2700 is greater than the length of the half 2700. Defaulting to last time spot.\n"
     ]
    },
    {
     "name": "stderr",
     "output_type": "stream",
     "text": [
      "\n",
      "Processing england_epl/2016-2017: 100%|██████████| 6/6 [00:04<00:00,  1.28it/s]\n",
      "Processing england_epl: 100%|██████████| 3/3 [00:15<00:00,  5.10s/it]\n",
      "Processing Leagues:  67%|██████▋   | 4/6 [00:55<00:30, 15.15s/it]"
     ]
    },
    {
     "name": "stdout",
     "output_type": "stream",
     "text": [
      "Position 2919 is greater than the length of the half 2919. Defaulting to last time spot.\n"
     ]
    },
    {
     "name": "stderr",
     "output_type": "stream",
     "text": [
      "\n",
      "\u001b[A\n",
      "\u001b[A\n",
      "\u001b[A\n",
      "\u001b[A\n",
      "\u001b[A\n",
      "\u001b[A\n",
      "\u001b[A\n",
      "\u001b[A\n",
      "Processing europe_uefa-champions-league/2014-2015: 100%|██████████| 8/8 [00:06<00:00,  1.30it/s]\n",
      "\n",
      "\u001b[A\n",
      "\u001b[A"
     ]
    },
    {
     "name": "stdout",
     "output_type": "stream",
     "text": [
      "Position 2700 is greater than the length of the half 2700. Defaulting to last time spot.\n"
     ]
    },
    {
     "name": "stderr",
     "output_type": "stream",
     "text": [
      "\n",
      "Processing europe_uefa-champions-league/2016-2017: 100%|██████████| 2/2 [00:01<00:00,  1.29it/s]\n",
      "\n",
      "\u001b[A\n",
      "\u001b[A\n",
      "\u001b[A\n",
      "\u001b[A\n",
      "\u001b[A\n",
      "\u001b[A\n",
      "\u001b[A\n",
      "\u001b[A\n",
      "\u001b[A\n",
      "\u001b[A\n",
      "Processing europe_uefa-champions-league/2015-2016: 100%|██████████| 10/10 [00:07<00:00,  1.28it/s]\n",
      "Processing europe_uefa-champions-league: 100%|██████████| 3/3 [00:15<00:00,  5.17s/it]\n",
      "Processing Leagues:  83%|████████▎ | 5/6 [01:11<00:15, 15.28s/it]\n",
      "\u001b[A\n",
      "\u001b[A\n",
      "\u001b[A\n",
      "\u001b[A\n",
      "\u001b[A\n",
      "\u001b[A\n",
      "\u001b[A\n",
      "\u001b[A\n",
      "Processing france_ligue-1/2016-2017: 100%|██████████| 8/8 [00:06<00:00,  1.28it/s]\n",
      "\n",
      "\u001b[A\n",
      "Processing france_ligue-1/2015-2016: 100%|██████████| 1/1 [00:00<00:00,  1.31it/s]\n",
      "Processing france_ligue-1: 100%|██████████| 2/2 [00:06<00:00,  3.50s/it]\n",
      "Processing Leagues: 100%|██████████| 6/6 [01:18<00:00, 13.01s/it]\n"
     ]
    },
    {
     "name": "stdout",
     "output_type": "stream",
     "text": [
      "\n",
      "Saving dataset...\n"
     ]
    },
    {
     "name": "stderr",
     "output_type": "stream",
     "text": [
      "Saving Samples: 100%|██████████| 109357/109357 [00:00<00:00, 168995.21it/s]\n"
     ]
    },
    {
     "name": "stdout",
     "output_type": "stream",
     "text": [
      "Dataset saved to /data/kaushik3/SoccerData/ResNET_features/ActionSpotting_v2_val_video_length_15_overlap_5.pt\n"
     ]
    }
   ],
   "source": [
    "from utils.dataset import ActionSpotting_v2\n",
    "from tqdm import tqdm\n",
    "import torch \n",
    "\n",
    "def save_dataset(feature_path, label_path, split, save_path):\n",
    "    dataset = ActionSpotting_v2(feature_path, label_path, split)\n",
    "\n",
    "    # Convert dataset to a list of tensors\n",
    "    print(\"\\nSaving dataset...\")\n",
    "    data_list = [dataset[i] for i in tqdm(range(len(dataset)), desc=\"Saving Samples\")]\n",
    "\n",
    "    # Save as a PyTorch .pt file\n",
    "    torch.save(data_list, save_path)\n",
    "    print(f\"Dataset saved to {save_path}\")\n",
    "\n",
    "# Define paths and save dataset\n",
    "feature_path = \"/data/kaushik3/SoccerData/ResNET_features\"\n",
    "label_path = \"/data/kaushik3/SoccerData/ActionSpotting/ActionSpotting_v2\"\n",
    "split = \"val\"\n",
    "video_length = 15\n",
    "overlap = 5\n",
    "save_path = f\"/data/kaushik3/SoccerData/ResNET_features/ActionSpotting_v2_{split}_video_length_{video_length}_overlap_{overlap}.pt\"\n",
    "\n",
    "save_dataset(feature_path, label_path, split, save_path)"
   ]
  },
  {
   "cell_type": "code",
   "execution_count": null,
   "metadata": {},
   "outputs": [],
   "source": []
  }
 ],
 "metadata": {
  "kernelspec": {
   "display_name": "deepseek",
   "language": "python",
   "name": "python3"
  },
  "language_info": {
   "codemirror_mode": {
    "name": "ipython",
    "version": 3
   },
   "file_extension": ".py",
   "mimetype": "text/x-python",
   "name": "python",
   "nbconvert_exporter": "python",
   "pygments_lexer": "ipython3",
   "version": "3.12.8"
  }
 },
 "nbformat": 4,
 "nbformat_minor": 2
}
